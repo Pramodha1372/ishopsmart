{
 "cells": [
  {
   "cell_type": "code",
   "execution_count": 1,
   "id": "1af7231c",
   "metadata": {},
   "outputs": [],
   "source": [
    "import requests\n",
    "import re\n",
    "import numpy as np\n",
    "import pandas as pd\n",
    "from bs4 import BeautifulSoup"
   ]
  },
  {
   "cell_type": "markdown",
   "id": "363a9938",
   "metadata": {},
   "source": [
    "1. model_name\n",
    "2. rating\n",
    "3. rom\n",
    "4. display\n",
    "5. chip_processor\n",
    "6. num_of_ratings\n",
    "7. num_of_reviews\n",
    "8. price"
   ]
  },
  {
   "cell_type": "code",
   "execution_count": 2,
   "id": "dec83740",
   "metadata": {},
   "outputs": [],
   "source": [
    "url = 'https://www.flipkart.com/search?sid=tyy%2C4io&otracker=CLP_Filters&p%5B%5D=facets.brand%255B%255D%3DAPPLE'\n",
    "page = requests.get(url)\n",
    "soup = BeautifulSoup(page.text)"
   ]
  },
  {
   "cell_type": "code",
   "execution_count": 3,
   "id": "758cc3c2",
   "metadata": {},
   "outputs": [
    {
     "data": {
      "text/plain": [
       "<Response [200]>"
      ]
     },
     "execution_count": 3,
     "metadata": {},
     "output_type": "execute_result"
    }
   ],
   "source": [
    "page"
   ]
  },
  {
   "cell_type": "code",
   "execution_count": 4,
   "id": "379f63b7",
   "metadata": {},
   "outputs": [],
   "source": [
    "model_name=[]\n",
    "for i in soup.find_all('div',class_='_4rR01T'):\n",
    "    text=i.text\n",
    "    if text:\n",
    "        model_name.append(text)\n",
    "    else:\n",
    "        model_name.append(np.nan)"
   ]
  },
  {
   "cell_type": "code",
   "execution_count": 5,
   "id": "b3df7dc4",
   "metadata": {},
   "outputs": [
    {
     "data": {
      "text/plain": [
       "['APPLE iPhone 11 (Black, 128 GB)',\n",
       " 'APPLE iPhone 11 (White, 128 GB)',\n",
       " 'APPLE iPhone 13 (Midnight, 128 GB)',\n",
       " 'APPLE iPhone 13 (Green, 128 GB)',\n",
       " 'APPLE iPhone 11 (Black, 64 GB)',\n",
       " 'APPLE iPhone 11 (White, 64 GB)',\n",
       " 'APPLE iPhone 14 (Midnight, 128 GB)',\n",
       " 'APPLE iPhone 13 (Pink, 128 GB)',\n",
       " 'APPLE iPhone 13 (Starlight, 128 GB)',\n",
       " 'APPLE iPhone 13 (Blue, 128 GB)',\n",
       " 'APPLE iPhone 14 (Purple, 128 GB)',\n",
       " 'APPLE iPhone 14 (Starlight, 128 GB)',\n",
       " 'APPLE iPhone 14 (Blue, 128 GB)',\n",
       " 'APPLE iPhone SE 3rd Gen (Product (Red), 256 GB)',\n",
       " 'APPLE iPhone 13 ((PRODUCT)RED, 128 GB)',\n",
       " 'APPLE iPhone 14 Plus (Starlight, 128 GB)',\n",
       " 'APPLE iPhone 14 Plus (Midnight, 128 GB)',\n",
       " 'APPLE iPhone SE 3rd Gen (Product (Red), 64 GB)',\n",
       " 'APPLE iPhone 14 Plus (Blue, 128 GB)',\n",
       " 'APPLE iPhone 14 Plus (Purple, 128 GB)',\n",
       " 'APPLE iPhone SE 3rd Gen (Starlight, 64 GB)',\n",
       " 'APPLE iPhone 13 (Starlight, 256 GB)',\n",
       " 'APPLE iPhone 12 (Green, 64 GB)',\n",
       " 'APPLE iPhone 12 (White, 64 GB)']"
      ]
     },
     "execution_count": 5,
     "metadata": {},
     "output_type": "execute_result"
    }
   ],
   "source": [
    "model_name"
   ]
  },
  {
   "cell_type": "code",
   "execution_count": 6,
   "id": "ffb059cf",
   "metadata": {},
   "outputs": [
    {
     "data": {
      "text/plain": [
       "24"
      ]
     },
     "execution_count": 6,
     "metadata": {},
     "output_type": "execute_result"
    }
   ],
   "source": [
    "len(model_name)"
   ]
  },
  {
   "cell_type": "code",
   "execution_count": 7,
   "id": "0ad96d54",
   "metadata": {},
   "outputs": [],
   "source": [
    "rating=[]\n",
    "for i in soup.find_all('div',class_='_3LWZlK'):\n",
    "    text=i.text\n",
    "    if text:\n",
    "        rating.append(float(text))\n",
    "    else:\n",
    "        rating.append(np.nan)"
   ]
  },
  {
   "cell_type": "code",
   "execution_count": 8,
   "id": "f8f5e58e",
   "metadata": {},
   "outputs": [
    {
     "data": {
      "text/plain": [
       "[4.6,\n",
       " 4.6,\n",
       " 4.7,\n",
       " 4.7,\n",
       " 4.6,\n",
       " 4.6,\n",
       " 4.6,\n",
       " 4.7,\n",
       " 4.7,\n",
       " 4.7,\n",
       " 4.6,\n",
       " 4.6,\n",
       " 4.6,\n",
       " 4.4,\n",
       " 4.7,\n",
       " 4.6,\n",
       " 4.6,\n",
       " 4.4,\n",
       " 4.6,\n",
       " 4.6,\n",
       " 4.4,\n",
       " 4.7,\n",
       " 4.6,\n",
       " 4.6]"
      ]
     },
     "execution_count": 8,
     "metadata": {},
     "output_type": "execute_result"
    }
   ],
   "source": [
    "rating"
   ]
  },
  {
   "cell_type": "code",
   "execution_count": 9,
   "id": "1610159d",
   "metadata": {},
   "outputs": [
    {
     "data": {
      "text/plain": [
       "24"
      ]
     },
     "execution_count": 9,
     "metadata": {},
     "output_type": "execute_result"
    }
   ],
   "source": [
    "len(rating)"
   ]
  },
  {
   "cell_type": "code",
   "execution_count": 10,
   "id": "af6ff5a2",
   "metadata": {},
   "outputs": [],
   "source": [
    "rom=[]\n",
    "for i in soup.find_all('ul',class_='_1xgFaf'):\n",
    "    text=i.find('li',class_='rgWa7D')\n",
    "    text=re.findall('^\\d+',text.text)\n",
    "    if text:\n",
    "        rom.append(int(text[0]))\n",
    "    else:\n",
    "        rom.append(np.nan)"
   ]
  },
  {
   "cell_type": "code",
   "execution_count": 11,
   "id": "1f901c95",
   "metadata": {},
   "outputs": [
    {
     "data": {
      "text/plain": [
       "[128,\n",
       " 128,\n",
       " 128,\n",
       " 128,\n",
       " 64,\n",
       " 64,\n",
       " 128,\n",
       " 128,\n",
       " 128,\n",
       " 128,\n",
       " 128,\n",
       " 128,\n",
       " 128,\n",
       " 256,\n",
       " 128,\n",
       " 128,\n",
       " 128,\n",
       " 64,\n",
       " 128,\n",
       " 128,\n",
       " 64,\n",
       " 256,\n",
       " 64,\n",
       " 64]"
      ]
     },
     "execution_count": 11,
     "metadata": {},
     "output_type": "execute_result"
    }
   ],
   "source": [
    "rom"
   ]
  },
  {
   "cell_type": "code",
   "execution_count": 12,
   "id": "e16f72f7",
   "metadata": {},
   "outputs": [
    {
     "data": {
      "text/plain": [
       "24"
      ]
     },
     "execution_count": 12,
     "metadata": {},
     "output_type": "execute_result"
    }
   ],
   "source": [
    "len(rom)"
   ]
  },
  {
   "cell_type": "code",
   "execution_count": 13,
   "id": "0aedf493",
   "metadata": {},
   "outputs": [],
   "source": [
    "display=[]\n",
    "for i in soup.find_all('div',class_='fMghEO'):\n",
    "    text=i.find('ul',class_='_1xgFaf')\n",
    "    text=re.findall('ROM(\\d+\\.\\d+)\\s',text.text)\n",
    "    if text:\n",
    "        display.append(float(text[0]))\n",
    "    else:\n",
    "        display.append(np.nan)"
   ]
  },
  {
   "cell_type": "code",
   "execution_count": 14,
   "id": "0a26c29a",
   "metadata": {},
   "outputs": [
    {
     "data": {
      "text/plain": [
       "[15.49,\n",
       " 15.49,\n",
       " 15.49,\n",
       " 15.49,\n",
       " 15.49,\n",
       " 15.49,\n",
       " 15.49,\n",
       " 15.49,\n",
       " 15.49,\n",
       " 15.49,\n",
       " 15.49,\n",
       " 15.49,\n",
       " 15.49,\n",
       " 11.94,\n",
       " 15.49,\n",
       " 17.02,\n",
       " 17.02,\n",
       " 11.94,\n",
       " 17.02,\n",
       " 17.02,\n",
       " 11.94,\n",
       " 15.49,\n",
       " 15.49,\n",
       " 15.49]"
      ]
     },
     "execution_count": 14,
     "metadata": {},
     "output_type": "execute_result"
    }
   ],
   "source": [
    "display"
   ]
  },
  {
   "cell_type": "code",
   "execution_count": 15,
   "id": "3266e42e",
   "metadata": {},
   "outputs": [
    {
     "data": {
      "text/plain": [
       "24"
      ]
     },
     "execution_count": 15,
     "metadata": {},
     "output_type": "execute_result"
    }
   ],
   "source": [
    "len(display)"
   ]
  },
  {
   "cell_type": "code",
   "execution_count": 16,
   "id": "1753dc24",
   "metadata": {},
   "outputs": [],
   "source": [
    "chip_processor=[]\n",
    "for i in soup.find_all('div',class_='fMghEO'):\n",
    "    text=i.find('ul',class_='_1xgFaf')\n",
    "    text=re.findall('(A\\d+) Bionic Chip',text.text)\n",
    "    if text:\n",
    "        chip_processor.append(text[0])\n",
    "    else:\n",
    "        chip_processor.append(np.nan)"
   ]
  },
  {
   "cell_type": "code",
   "execution_count": 17,
   "id": "d4a36f67",
   "metadata": {},
   "outputs": [
    {
     "data": {
      "text/plain": [
       "['A13',\n",
       " 'A13',\n",
       " 'A15',\n",
       " 'A15',\n",
       " 'A13',\n",
       " 'A13',\n",
       " 'A15',\n",
       " 'A15',\n",
       " 'A15',\n",
       " 'A15',\n",
       " 'A15',\n",
       " 'A15',\n",
       " 'A15',\n",
       " 'A15',\n",
       " 'A15',\n",
       " 'A15',\n",
       " 'A15',\n",
       " 'A15',\n",
       " 'A15',\n",
       " 'A15',\n",
       " 'A15',\n",
       " 'A15',\n",
       " 'A14',\n",
       " 'A14']"
      ]
     },
     "execution_count": 17,
     "metadata": {},
     "output_type": "execute_result"
    }
   ],
   "source": [
    "chip_processor"
   ]
  },
  {
   "cell_type": "code",
   "execution_count": 18,
   "id": "28374a89",
   "metadata": {},
   "outputs": [
    {
     "data": {
      "text/plain": [
       "24"
      ]
     },
     "execution_count": 18,
     "metadata": {},
     "output_type": "execute_result"
    }
   ],
   "source": [
    "len(chip_processor)"
   ]
  },
  {
   "cell_type": "code",
   "execution_count": 19,
   "id": "4241d696",
   "metadata": {},
   "outputs": [],
   "source": [
    "num_of_ratings=[]\n",
    "for i in soup.find_all('div',class_='gUuXy-'):\n",
    "    text=i.find('span',class_='_2_R_DZ')\n",
    "    text=re.findall('(\\d+\\,?\\d+?\\,?\\d+?) Ratings',text.text)\n",
    "    if text:\n",
    "        text=int(text[0].replace(\",\", \"\"))\n",
    "        num_of_ratings.append(text)\n",
    "    else:\n",
    "        num_of_ratings.append(np.nan)"
   ]
  },
  {
   "cell_type": "code",
   "execution_count": 20,
   "id": "acc9254b",
   "metadata": {},
   "outputs": [
    {
     "data": {
      "text/plain": [
       "[200360,\n",
       " 200360,\n",
       " 255205,\n",
       " 255205,\n",
       " 200360,\n",
       " 200360,\n",
       " 48180,\n",
       " 255205,\n",
       " 255205,\n",
       " 255205,\n",
       " 48180,\n",
       " 48180,\n",
       " 48180,\n",
       " 900,\n",
       " 255205,\n",
       " 15369,\n",
       " 15369,\n",
       " 900,\n",
       " 15369,\n",
       " 15369,\n",
       " 900,\n",
       " 255205,\n",
       " 190638,\n",
       " 190638]"
      ]
     },
     "execution_count": 20,
     "metadata": {},
     "output_type": "execute_result"
    }
   ],
   "source": [
    "num_of_ratings"
   ]
  },
  {
   "cell_type": "code",
   "execution_count": 21,
   "id": "909d8d22",
   "metadata": {},
   "outputs": [
    {
     "data": {
      "text/plain": [
       "24"
      ]
     },
     "execution_count": 21,
     "metadata": {},
     "output_type": "execute_result"
    }
   ],
   "source": [
    "len(num_of_ratings)"
   ]
  },
  {
   "cell_type": "code",
   "execution_count": 22,
   "id": "ff6fa9c5",
   "metadata": {},
   "outputs": [],
   "source": [
    "num_of_reviews=[]\n",
    "for i in soup.find_all('div',class_='gUuXy-'):\n",
    "    text=i.find('span',class_='_2_R_DZ')\n",
    "    text=re.findall('(\\d+\\,?\\d+?\\,?\\d+?) Reviews$',text.text)\n",
    "    if text:\n",
    "        text=int(text[0].replace(\",\", \"\"))\n",
    "        num_of_reviews.append(text)\n",
    "    else:\n",
    "        num_of_reviews.append(np.nan)"
   ]
  },
  {
   "cell_type": "code",
   "execution_count": 23,
   "id": "554d39c6",
   "metadata": {},
   "outputs": [
    {
     "data": {
      "text/plain": [
       "[11406,\n",
       " 11406,\n",
       " 12592,\n",
       " 12592,\n",
       " 11406,\n",
       " 11406,\n",
       " 1833,\n",
       " 12592,\n",
       " 12592,\n",
       " 12592,\n",
       " 1833,\n",
       " 1833,\n",
       " 1833,\n",
       " nan,\n",
       " 12592,\n",
       " 929,\n",
       " 929,\n",
       " nan,\n",
       " 929,\n",
       " 929,\n",
       " nan,\n",
       " 12592,\n",
       " 12876,\n",
       " 12876]"
      ]
     },
     "execution_count": 23,
     "metadata": {},
     "output_type": "execute_result"
    }
   ],
   "source": [
    "num_of_reviews"
   ]
  },
  {
   "cell_type": "code",
   "execution_count": 24,
   "id": "08e02ab5",
   "metadata": {},
   "outputs": [
    {
     "data": {
      "text/plain": [
       "24"
      ]
     },
     "execution_count": 24,
     "metadata": {},
     "output_type": "execute_result"
    }
   ],
   "source": [
    "len(num_of_reviews)"
   ]
  },
  {
   "cell_type": "code",
   "execution_count": 25,
   "id": "e3b3e794",
   "metadata": {},
   "outputs": [],
   "source": [
    "price=[]\n",
    "for i in soup.find_all('div',class_='_25b18c'):\n",
    "    text=i.find('div',class_='_30jeq3 _1_WHN1')\n",
    "    text=re.findall('₹(.+)',text.text)\n",
    "    if text:\n",
    "        text=int(text[0].replace(\",\", \"\"))\n",
    "        price.append(text)\n",
    "    else:\n",
    "        price.append(np.nan)"
   ]
  },
  {
   "cell_type": "code",
   "execution_count": 26,
   "id": "c44cebf8",
   "metadata": {},
   "outputs": [
    {
     "data": {
      "text/plain": [
       "[40999,\n",
       " 40999,\n",
       " 56999,\n",
       " 56999,\n",
       " 37999,\n",
       " 37999,\n",
       " 67999,\n",
       " 56999,\n",
       " 56999,\n",
       " 56999,\n",
       " 67999,\n",
       " 67999,\n",
       " 67999,\n",
       " 46599,\n",
       " 56999,\n",
       " 76999,\n",
       " 76999,\n",
       " 49900,\n",
       " 76999,\n",
       " 76999,\n",
       " 49900,\n",
       " 65999,\n",
       " 49999,\n",
       " 49999]"
      ]
     },
     "execution_count": 26,
     "metadata": {},
     "output_type": "execute_result"
    }
   ],
   "source": [
    "price"
   ]
  },
  {
   "cell_type": "code",
   "execution_count": 27,
   "id": "801857ab",
   "metadata": {},
   "outputs": [
    {
     "data": {
      "text/plain": [
       "24"
      ]
     },
     "execution_count": 27,
     "metadata": {},
     "output_type": "execute_result"
    }
   ],
   "source": [
    "len(price)"
   ]
  },
  {
   "cell_type": "code",
   "execution_count": 28,
   "id": "a8e5e97a",
   "metadata": {},
   "outputs": [],
   "source": [
    "dic = {\n",
    "    'Model Name':model_name,\n",
    "    'Rating':rating,\n",
    "    'ROM':rom,\n",
    "    'Display (cm)':display,\n",
    "    'Chip Processor':chip_processor,\n",
    "    'Number of Ratings':num_of_ratings,\n",
    "    'Number of Reviews':num_of_reviews,\n",
    "    'Price(₹)':price\n",
    "}"
   ]
  },
  {
   "cell_type": "code",
   "execution_count": 29,
   "id": "5e980f5a",
   "metadata": {},
   "outputs": [],
   "source": [
    "df = pd.DataFrame(dic)"
   ]
  },
  {
   "cell_type": "code",
   "execution_count": 30,
   "id": "53835d7f",
   "metadata": {},
   "outputs": [
    {
     "data": {
      "text/html": [
       "<div>\n",
       "<style scoped>\n",
       "    .dataframe tbody tr th:only-of-type {\n",
       "        vertical-align: middle;\n",
       "    }\n",
       "\n",
       "    .dataframe tbody tr th {\n",
       "        vertical-align: top;\n",
       "    }\n",
       "\n",
       "    .dataframe thead th {\n",
       "        text-align: right;\n",
       "    }\n",
       "</style>\n",
       "<table border=\"1\" class=\"dataframe\">\n",
       "  <thead>\n",
       "    <tr style=\"text-align: right;\">\n",
       "      <th></th>\n",
       "      <th>Model Name</th>\n",
       "      <th>Rating</th>\n",
       "      <th>ROM</th>\n",
       "      <th>Display (cm)</th>\n",
       "      <th>Chip Processor</th>\n",
       "      <th>Number of Ratings</th>\n",
       "      <th>Number of Reviews</th>\n",
       "      <th>Price(₹)</th>\n",
       "    </tr>\n",
       "  </thead>\n",
       "  <tbody>\n",
       "    <tr>\n",
       "      <th>0</th>\n",
       "      <td>APPLE iPhone 11 (Black, 128 GB)</td>\n",
       "      <td>4.6</td>\n",
       "      <td>128</td>\n",
       "      <td>15.49</td>\n",
       "      <td>A13</td>\n",
       "      <td>200360</td>\n",
       "      <td>11406.0</td>\n",
       "      <td>40999</td>\n",
       "    </tr>\n",
       "    <tr>\n",
       "      <th>1</th>\n",
       "      <td>APPLE iPhone 11 (White, 128 GB)</td>\n",
       "      <td>4.6</td>\n",
       "      <td>128</td>\n",
       "      <td>15.49</td>\n",
       "      <td>A13</td>\n",
       "      <td>200360</td>\n",
       "      <td>11406.0</td>\n",
       "      <td>40999</td>\n",
       "    </tr>\n",
       "    <tr>\n",
       "      <th>2</th>\n",
       "      <td>APPLE iPhone 13 (Midnight, 128 GB)</td>\n",
       "      <td>4.7</td>\n",
       "      <td>128</td>\n",
       "      <td>15.49</td>\n",
       "      <td>A15</td>\n",
       "      <td>255205</td>\n",
       "      <td>12592.0</td>\n",
       "      <td>56999</td>\n",
       "    </tr>\n",
       "    <tr>\n",
       "      <th>3</th>\n",
       "      <td>APPLE iPhone 13 (Green, 128 GB)</td>\n",
       "      <td>4.7</td>\n",
       "      <td>128</td>\n",
       "      <td>15.49</td>\n",
       "      <td>A15</td>\n",
       "      <td>255205</td>\n",
       "      <td>12592.0</td>\n",
       "      <td>56999</td>\n",
       "    </tr>\n",
       "    <tr>\n",
       "      <th>4</th>\n",
       "      <td>APPLE iPhone 11 (Black, 64 GB)</td>\n",
       "      <td>4.6</td>\n",
       "      <td>64</td>\n",
       "      <td>15.49</td>\n",
       "      <td>A13</td>\n",
       "      <td>200360</td>\n",
       "      <td>11406.0</td>\n",
       "      <td>37999</td>\n",
       "    </tr>\n",
       "    <tr>\n",
       "      <th>5</th>\n",
       "      <td>APPLE iPhone 11 (White, 64 GB)</td>\n",
       "      <td>4.6</td>\n",
       "      <td>64</td>\n",
       "      <td>15.49</td>\n",
       "      <td>A13</td>\n",
       "      <td>200360</td>\n",
       "      <td>11406.0</td>\n",
       "      <td>37999</td>\n",
       "    </tr>\n",
       "    <tr>\n",
       "      <th>6</th>\n",
       "      <td>APPLE iPhone 14 (Midnight, 128 GB)</td>\n",
       "      <td>4.6</td>\n",
       "      <td>128</td>\n",
       "      <td>15.49</td>\n",
       "      <td>A15</td>\n",
       "      <td>48180</td>\n",
       "      <td>1833.0</td>\n",
       "      <td>67999</td>\n",
       "    </tr>\n",
       "    <tr>\n",
       "      <th>7</th>\n",
       "      <td>APPLE iPhone 13 (Pink, 128 GB)</td>\n",
       "      <td>4.7</td>\n",
       "      <td>128</td>\n",
       "      <td>15.49</td>\n",
       "      <td>A15</td>\n",
       "      <td>255205</td>\n",
       "      <td>12592.0</td>\n",
       "      <td>56999</td>\n",
       "    </tr>\n",
       "    <tr>\n",
       "      <th>8</th>\n",
       "      <td>APPLE iPhone 13 (Starlight, 128 GB)</td>\n",
       "      <td>4.7</td>\n",
       "      <td>128</td>\n",
       "      <td>15.49</td>\n",
       "      <td>A15</td>\n",
       "      <td>255205</td>\n",
       "      <td>12592.0</td>\n",
       "      <td>56999</td>\n",
       "    </tr>\n",
       "    <tr>\n",
       "      <th>9</th>\n",
       "      <td>APPLE iPhone 13 (Blue, 128 GB)</td>\n",
       "      <td>4.7</td>\n",
       "      <td>128</td>\n",
       "      <td>15.49</td>\n",
       "      <td>A15</td>\n",
       "      <td>255205</td>\n",
       "      <td>12592.0</td>\n",
       "      <td>56999</td>\n",
       "    </tr>\n",
       "    <tr>\n",
       "      <th>10</th>\n",
       "      <td>APPLE iPhone 14 (Purple, 128 GB)</td>\n",
       "      <td>4.6</td>\n",
       "      <td>128</td>\n",
       "      <td>15.49</td>\n",
       "      <td>A15</td>\n",
       "      <td>48180</td>\n",
       "      <td>1833.0</td>\n",
       "      <td>67999</td>\n",
       "    </tr>\n",
       "    <tr>\n",
       "      <th>11</th>\n",
       "      <td>APPLE iPhone 14 (Starlight, 128 GB)</td>\n",
       "      <td>4.6</td>\n",
       "      <td>128</td>\n",
       "      <td>15.49</td>\n",
       "      <td>A15</td>\n",
       "      <td>48180</td>\n",
       "      <td>1833.0</td>\n",
       "      <td>67999</td>\n",
       "    </tr>\n",
       "    <tr>\n",
       "      <th>12</th>\n",
       "      <td>APPLE iPhone 14 (Blue, 128 GB)</td>\n",
       "      <td>4.6</td>\n",
       "      <td>128</td>\n",
       "      <td>15.49</td>\n",
       "      <td>A15</td>\n",
       "      <td>48180</td>\n",
       "      <td>1833.0</td>\n",
       "      <td>67999</td>\n",
       "    </tr>\n",
       "    <tr>\n",
       "      <th>13</th>\n",
       "      <td>APPLE iPhone SE 3rd Gen (Product (Red), 256 GB)</td>\n",
       "      <td>4.4</td>\n",
       "      <td>256</td>\n",
       "      <td>11.94</td>\n",
       "      <td>A15</td>\n",
       "      <td>900</td>\n",
       "      <td>NaN</td>\n",
       "      <td>46599</td>\n",
       "    </tr>\n",
       "    <tr>\n",
       "      <th>14</th>\n",
       "      <td>APPLE iPhone 13 ((PRODUCT)RED, 128 GB)</td>\n",
       "      <td>4.7</td>\n",
       "      <td>128</td>\n",
       "      <td>15.49</td>\n",
       "      <td>A15</td>\n",
       "      <td>255205</td>\n",
       "      <td>12592.0</td>\n",
       "      <td>56999</td>\n",
       "    </tr>\n",
       "    <tr>\n",
       "      <th>15</th>\n",
       "      <td>APPLE iPhone 14 Plus (Starlight, 128 GB)</td>\n",
       "      <td>4.6</td>\n",
       "      <td>128</td>\n",
       "      <td>17.02</td>\n",
       "      <td>A15</td>\n",
       "      <td>15369</td>\n",
       "      <td>929.0</td>\n",
       "      <td>76999</td>\n",
       "    </tr>\n",
       "    <tr>\n",
       "      <th>16</th>\n",
       "      <td>APPLE iPhone 14 Plus (Midnight, 128 GB)</td>\n",
       "      <td>4.6</td>\n",
       "      <td>128</td>\n",
       "      <td>17.02</td>\n",
       "      <td>A15</td>\n",
       "      <td>15369</td>\n",
       "      <td>929.0</td>\n",
       "      <td>76999</td>\n",
       "    </tr>\n",
       "    <tr>\n",
       "      <th>17</th>\n",
       "      <td>APPLE iPhone SE 3rd Gen (Product (Red), 64 GB)</td>\n",
       "      <td>4.4</td>\n",
       "      <td>64</td>\n",
       "      <td>11.94</td>\n",
       "      <td>A15</td>\n",
       "      <td>900</td>\n",
       "      <td>NaN</td>\n",
       "      <td>49900</td>\n",
       "    </tr>\n",
       "    <tr>\n",
       "      <th>18</th>\n",
       "      <td>APPLE iPhone 14 Plus (Blue, 128 GB)</td>\n",
       "      <td>4.6</td>\n",
       "      <td>128</td>\n",
       "      <td>17.02</td>\n",
       "      <td>A15</td>\n",
       "      <td>15369</td>\n",
       "      <td>929.0</td>\n",
       "      <td>76999</td>\n",
       "    </tr>\n",
       "    <tr>\n",
       "      <th>19</th>\n",
       "      <td>APPLE iPhone 14 Plus (Purple, 128 GB)</td>\n",
       "      <td>4.6</td>\n",
       "      <td>128</td>\n",
       "      <td>17.02</td>\n",
       "      <td>A15</td>\n",
       "      <td>15369</td>\n",
       "      <td>929.0</td>\n",
       "      <td>76999</td>\n",
       "    </tr>\n",
       "    <tr>\n",
       "      <th>20</th>\n",
       "      <td>APPLE iPhone SE 3rd Gen (Starlight, 64 GB)</td>\n",
       "      <td>4.4</td>\n",
       "      <td>64</td>\n",
       "      <td>11.94</td>\n",
       "      <td>A15</td>\n",
       "      <td>900</td>\n",
       "      <td>NaN</td>\n",
       "      <td>49900</td>\n",
       "    </tr>\n",
       "    <tr>\n",
       "      <th>21</th>\n",
       "      <td>APPLE iPhone 13 (Starlight, 256 GB)</td>\n",
       "      <td>4.7</td>\n",
       "      <td>256</td>\n",
       "      <td>15.49</td>\n",
       "      <td>A15</td>\n",
       "      <td>255205</td>\n",
       "      <td>12592.0</td>\n",
       "      <td>65999</td>\n",
       "    </tr>\n",
       "    <tr>\n",
       "      <th>22</th>\n",
       "      <td>APPLE iPhone 12 (Green, 64 GB)</td>\n",
       "      <td>4.6</td>\n",
       "      <td>64</td>\n",
       "      <td>15.49</td>\n",
       "      <td>A14</td>\n",
       "      <td>190638</td>\n",
       "      <td>12876.0</td>\n",
       "      <td>49999</td>\n",
       "    </tr>\n",
       "    <tr>\n",
       "      <th>23</th>\n",
       "      <td>APPLE iPhone 12 (White, 64 GB)</td>\n",
       "      <td>4.6</td>\n",
       "      <td>64</td>\n",
       "      <td>15.49</td>\n",
       "      <td>A14</td>\n",
       "      <td>190638</td>\n",
       "      <td>12876.0</td>\n",
       "      <td>49999</td>\n",
       "    </tr>\n",
       "  </tbody>\n",
       "</table>\n",
       "</div>"
      ],
      "text/plain": [
       "                                         Model Name  Rating  ROM  \\\n",
       "0                   APPLE iPhone 11 (Black, 128 GB)     4.6  128   \n",
       "1                   APPLE iPhone 11 (White, 128 GB)     4.6  128   \n",
       "2                APPLE iPhone 13 (Midnight, 128 GB)     4.7  128   \n",
       "3                   APPLE iPhone 13 (Green, 128 GB)     4.7  128   \n",
       "4                    APPLE iPhone 11 (Black, 64 GB)     4.6   64   \n",
       "5                    APPLE iPhone 11 (White, 64 GB)     4.6   64   \n",
       "6                APPLE iPhone 14 (Midnight, 128 GB)     4.6  128   \n",
       "7                    APPLE iPhone 13 (Pink, 128 GB)     4.7  128   \n",
       "8               APPLE iPhone 13 (Starlight, 128 GB)     4.7  128   \n",
       "9                    APPLE iPhone 13 (Blue, 128 GB)     4.7  128   \n",
       "10                 APPLE iPhone 14 (Purple, 128 GB)     4.6  128   \n",
       "11              APPLE iPhone 14 (Starlight, 128 GB)     4.6  128   \n",
       "12                   APPLE iPhone 14 (Blue, 128 GB)     4.6  128   \n",
       "13  APPLE iPhone SE 3rd Gen (Product (Red), 256 GB)     4.4  256   \n",
       "14           APPLE iPhone 13 ((PRODUCT)RED, 128 GB)     4.7  128   \n",
       "15         APPLE iPhone 14 Plus (Starlight, 128 GB)     4.6  128   \n",
       "16          APPLE iPhone 14 Plus (Midnight, 128 GB)     4.6  128   \n",
       "17   APPLE iPhone SE 3rd Gen (Product (Red), 64 GB)     4.4   64   \n",
       "18              APPLE iPhone 14 Plus (Blue, 128 GB)     4.6  128   \n",
       "19            APPLE iPhone 14 Plus (Purple, 128 GB)     4.6  128   \n",
       "20       APPLE iPhone SE 3rd Gen (Starlight, 64 GB)     4.4   64   \n",
       "21              APPLE iPhone 13 (Starlight, 256 GB)     4.7  256   \n",
       "22                   APPLE iPhone 12 (Green, 64 GB)     4.6   64   \n",
       "23                   APPLE iPhone 12 (White, 64 GB)     4.6   64   \n",
       "\n",
       "    Display (cm) Chip Processor  Number of Ratings  Number of Reviews  \\\n",
       "0          15.49            A13             200360            11406.0   \n",
       "1          15.49            A13             200360            11406.0   \n",
       "2          15.49            A15             255205            12592.0   \n",
       "3          15.49            A15             255205            12592.0   \n",
       "4          15.49            A13             200360            11406.0   \n",
       "5          15.49            A13             200360            11406.0   \n",
       "6          15.49            A15              48180             1833.0   \n",
       "7          15.49            A15             255205            12592.0   \n",
       "8          15.49            A15             255205            12592.0   \n",
       "9          15.49            A15             255205            12592.0   \n",
       "10         15.49            A15              48180             1833.0   \n",
       "11         15.49            A15              48180             1833.0   \n",
       "12         15.49            A15              48180             1833.0   \n",
       "13         11.94            A15                900                NaN   \n",
       "14         15.49            A15             255205            12592.0   \n",
       "15         17.02            A15              15369              929.0   \n",
       "16         17.02            A15              15369              929.0   \n",
       "17         11.94            A15                900                NaN   \n",
       "18         17.02            A15              15369              929.0   \n",
       "19         17.02            A15              15369              929.0   \n",
       "20         11.94            A15                900                NaN   \n",
       "21         15.49            A15             255205            12592.0   \n",
       "22         15.49            A14             190638            12876.0   \n",
       "23         15.49            A14             190638            12876.0   \n",
       "\n",
       "    Price(₹)  \n",
       "0      40999  \n",
       "1      40999  \n",
       "2      56999  \n",
       "3      56999  \n",
       "4      37999  \n",
       "5      37999  \n",
       "6      67999  \n",
       "7      56999  \n",
       "8      56999  \n",
       "9      56999  \n",
       "10     67999  \n",
       "11     67999  \n",
       "12     67999  \n",
       "13     46599  \n",
       "14     56999  \n",
       "15     76999  \n",
       "16     76999  \n",
       "17     49900  \n",
       "18     76999  \n",
       "19     76999  \n",
       "20     49900  \n",
       "21     65999  \n",
       "22     49999  \n",
       "23     49999  "
      ]
     },
     "execution_count": 30,
     "metadata": {},
     "output_type": "execute_result"
    }
   ],
   "source": [
    "df"
   ]
  },
  {
   "cell_type": "code",
   "execution_count": 31,
   "id": "5c4e2c68",
   "metadata": {},
   "outputs": [],
   "source": [
    "df.to_csv('iPhones.csv',index=None)"
   ]
  }
 ],
 "metadata": {
  "kernelspec": {
   "display_name": "Python 3 (ipykernel)",
   "language": "python",
   "name": "python3"
  },
  "language_info": {
   "codemirror_mode": {
    "name": "ipython",
    "version": 3
   },
   "file_extension": ".py",
   "mimetype": "text/x-python",
   "name": "python",
   "nbconvert_exporter": "python",
   "pygments_lexer": "ipython3",
   "version": "3.10.9"
  }
 },
 "nbformat": 4,
 "nbformat_minor": 5
}
